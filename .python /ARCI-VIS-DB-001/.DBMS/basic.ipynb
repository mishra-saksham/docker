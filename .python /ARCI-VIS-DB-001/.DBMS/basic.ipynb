{
 "cells": [
  {
   "cell_type": "code",
   "execution_count": null,
   "metadata": {},
   "outputs": [],
   "source": [
    "{\n",
    "    'auth': {\n",
    "        'host': 'localhost', \n",
    "        'port' : 6000, \n",
    "        'users': [\n",
    "            'root',\n",
    "            'user1',\n",
    "            'user2',\n",
    "        ]\n",
    "\n",
    "    },\n",
    "    'group' : [\n",
    "        {'usersgroup':['root','user1'],},\n",
    "        #group name    # users in group\n",
    "    ],\n",
    "    'access':{\n",
    "        'users': [ #users with access types to the system\n",
    "            {\n",
    "                'root': {'access': [{\n",
    "                'read': True,\n",
    "                'write': True,\n",
    "                'destruct': True,\n",
    "                'extract' : True,\n",
    "\n",
    "            },1]\n",
    "            }\n",
    "            },\n",
    "            {\n",
    "                'user1': {'access': [{\n",
    "                    'read': True,\n",
    "                    'write': True,\n",
    "                    'destruct': False,\n",
    "                    'extract' : True,\n",
    "                },0]\n",
    "            },\n",
    "\n",
    "            }\n",
    "        ],\n",
    "        'groups':[\n",
    "            {\n",
    "                'usersgroup':{\n",
    "                    'access': [{\n",
    "                        'read': True,\n",
    "                        'write': True,\n",
    "                        'destruct': False,\n",
    "                        'extract' : True,\n",
    "                    },0]\n",
    "\n",
    "                }\n",
    "            }\n",
    "        ]\n",
    "    }\n",
    "}"
   ]
  },
  {
   "cell_type": "code",
   "execution_count": null,
   "metadata": {},
   "outputs": [],
   "source": [
    "{\n",
    "    'authusers':[\n",
    "        {'root': {'password': 'root'}},\n",
    "        {'user1': {'password': 'user1'}},\n",
    "        {'user2': {'password': 'user2'}},\n",
    "    ],\n",
    "}"
   ]
  }
 ],
 "metadata": {
  "language_info": {
   "name": "python"
  },
  "orig_nbformat": 4
 },
 "nbformat": 4,
 "nbformat_minor": 2
}
